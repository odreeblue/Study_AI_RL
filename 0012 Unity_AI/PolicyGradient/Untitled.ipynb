{
 "cells": [
  {
   "cell_type": "code",
   "execution_count": 1,
   "id": "7c26b860",
   "metadata": {},
   "outputs": [
    {
     "name": "stderr",
     "output_type": "stream",
     "text": [
      "2023-04-12 20:01:02.827468: I tensorflow/core/platform/cpu_feature_guard.cc:193] This TensorFlow binary is optimized with oneAPI Deep Neural Network Library (oneDNN) to use the following CPU instructions in performance-critical operations:  SSE4.1 SSE4.2\n",
      "To enable them in other operations, rebuild TensorFlow with the appropriate compiler flags.\n"
     ]
    }
   ],
   "source": [
    "import tensorflow as tf\n",
    "import tensorflow_probability as tfp\n",
    "from tensorflow.keras import optimizers, losses\n",
    "from tensorflow.keras import Model\n",
    "from tensorflow.keras import layers\n",
    "class Network(Model):\n",
    "    def __init__(self):\n",
    "        \"\"\"Initialization.\"\"\"\n",
    "        super(Network, self).__init__()\n",
    "        self.conv1 = layers.Conv2D(filters=16, kernel_size=[3, 3], padding='SAME', activation=tf.nn.relu)\n",
    "        self.pool1 = layers.MaxPool2D(padding='SAME')\n",
    "        self.conv2 = layers.Conv2D(filters=32, kernel_size=[3, 3], padding='SAME', activation=tf.nn.relu)\n",
    "        self.pool2 = layers.MaxPool2D(padding='SAME')\n",
    "        self.pool2_flat = layers.Flatten()\n",
    "        self.dense3 = layers.Dense(units=32, activation=tf.nn.relu)\n",
    "        self.dense4 = layers.Dense(units=16,activation=tf.nn.relu)\n",
    "        self.dense5 = layers.Dense(units=4,activation=tf.nn.softmax)\n",
    "\n",
    "    def call(self, inputs_img, inputs_pos, training = False):\n",
    "        net = self.conv1(inputs_img)\n",
    "        net = self.pool1(net)\n",
    "        net = self.conv2(net)\n",
    "        net = self.pool2(net)\n",
    "        net = self.pool2_flat(net)\n",
    "        net = tf.keras.layers.Concatenate()([net,inputs_pos])\n",
    "        net = self.dense3(net)\n",
    "        net = self.dense4(net)\n",
    "        net = self.dense5(net)\n",
    "        return net\n",
    "    \n",
    "    def summary(self):\n",
    "        x_img = layers.Input(shape=(64, 64, 1),name='image_input')\n",
    "        x_pos = layers.Input(shape=(2,),name='position_input')\n",
    "        model = Model(inputs=[x_img,x_pos], outputs=self.call(x_img,x_pos))\n",
    "        return model.summary()"
   ]
  },
  {
   "cell_type": "code",
   "execution_count": 2,
   "id": "311aea1b",
   "metadata": {},
   "outputs": [
    {
     "name": "stdout",
     "output_type": "stream",
     "text": [
      "Model: \"model\"\n",
      "__________________________________________________________________________________________________\n",
      " Layer (type)                   Output Shape         Param #     Connected to                     \n",
      "==================================================================================================\n",
      " image_input (InputLayer)       [(None, 64, 64, 1)]  0           []                               \n",
      "                                                                                                  \n",
      " conv2d (Conv2D)                (None, 64, 64, 16)   160         ['image_input[0][0]']            \n",
      "                                                                                                  \n",
      " max_pooling2d (MaxPooling2D)   (None, 32, 32, 16)   0           ['conv2d[0][0]']                 \n",
      "                                                                                                  \n",
      " conv2d_1 (Conv2D)              (None, 32, 32, 32)   4640        ['max_pooling2d[0][0]']          \n",
      "                                                                                                  \n",
      " max_pooling2d_1 (MaxPooling2D)  (None, 16, 16, 32)  0           ['conv2d_1[0][0]']               \n",
      "                                                                                                  \n",
      " flatten (Flatten)              (None, 8192)         0           ['max_pooling2d_1[0][0]']        \n",
      "                                                                                                  \n",
      " position_input (InputLayer)    [(None, 2)]          0           []                               \n",
      "                                                                                                  \n",
      " concatenate (Concatenate)      (None, 8194)         0           ['flatten[0][0]',                \n",
      "                                                                  'position_input[0][0]']         \n",
      "                                                                                                  \n",
      " dense (Dense)                  (None, 32)           262240      ['concatenate[0][0]']            \n",
      "                                                                                                  \n",
      " dense_1 (Dense)                (None, 16)           528         ['dense[0][0]']                  \n",
      "                                                                                                  \n",
      " dense_2 (Dense)                (None, 4)            68          ['dense_1[0][0]']                \n",
      "                                                                                                  \n",
      "==================================================================================================\n",
      "Total params: 267,636\n",
      "Trainable params: 267,636\n",
      "Non-trainable params: 0\n",
      "__________________________________________________________________________________________________\n"
     ]
    },
    {
     "name": "stderr",
     "output_type": "stream",
     "text": [
      "2023-04-12 20:01:05.525512: I tensorflow/core/platform/cpu_feature_guard.cc:193] This TensorFlow binary is optimized with oneAPI Deep Neural Network Library (oneDNN) to use the following CPU instructions in performance-critical operations:  SSE4.1 SSE4.2\n",
      "To enable them in other operations, rebuild TensorFlow with the appropriate compiler flags.\n"
     ]
    }
   ],
   "source": [
    "model = Network()\n",
    "#temp_inputs = tf.keras.Input(shape=(64, 64, 1))\n",
    "#model(temp_inputs)\n",
    "#model.build(temp_inputs)\n",
    "model.summary()"
   ]
  },
  {
   "cell_type": "code",
   "execution_count": null,
   "id": "331bdcdd",
   "metadata": {},
   "outputs": [],
   "source": []
  }
 ],
 "metadata": {
  "kernelspec": {
   "display_name": "Python 3 (ipykernel)",
   "language": "python",
   "name": "python3"
  },
  "language_info": {
   "codemirror_mode": {
    "name": "ipython",
    "version": 3
   },
   "file_extension": ".py",
   "mimetype": "text/x-python",
   "name": "python",
   "nbconvert_exporter": "python",
   "pygments_lexer": "ipython3",
   "version": "3.10.10"
  }
 },
 "nbformat": 4,
 "nbformat_minor": 5
}
