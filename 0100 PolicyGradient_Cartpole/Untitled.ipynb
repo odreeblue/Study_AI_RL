{
 "cells": [
  {
   "cell_type": "code",
   "execution_count": 1,
   "id": "cf68514a",
   "metadata": {},
   "outputs": [
    {
     "name": "stdout",
     "output_type": "stream",
     "text": [
      "tf.Tensor(36.0, shape=(), dtype=float32) tf.Tensor(10.0, shape=(), dtype=float32)\n"
     ]
    }
   ],
   "source": [
    "import tensorflow as tf\n",
    "\n",
    "w1, w2 = tf.Variable(5.), tf.Variable(3.) # 두 변수 w1과 w2를 정의\n",
    "\n",
    "def f(w1, w2): # 함수 f 정의\n",
    "    return 3 * w1 ** 2 + 2 * w1 * w2\n",
    "\n",
    "with tf.GradientTape(persistent = True) as tape: # tf.GradientTape 블록을 만들어, 관련된 연산을 기록\n",
    "    z = f(w1, w2)\n",
    "\n",
    "dz_dw1 = tape.gradient(z, w1) # 그래디언트 확인\n",
    "dz_dw2 = tape.gradient(z, w2)\n",
    "del tape # Tape 삭제하여 리소스 해제\n",
    "\n",
    "print(dz_dw1, dz_dw2)"
   ]
  },
  {
   "cell_type": "code",
   "execution_count": 2,
   "id": "f7898e31",
   "metadata": {},
   "outputs": [],
   "source": [
    "x = []"
   ]
  },
  {
   "cell_type": "code",
   "execution_count": 3,
   "id": "e6c6ae15",
   "metadata": {},
   "outputs": [
    {
     "data": {
      "text/plain": [
       "array([], shape=(1, 0), dtype=float64)"
      ]
     },
     "execution_count": 3,
     "metadata": {},
     "output_type": "execute_result"
    }
   ],
   "source": [
    "import numpy as np\n",
    "np.array([x])"
   ]
  },
  {
   "cell_type": "code",
   "execution_count": 4,
   "id": "9d0f9d93",
   "metadata": {},
   "outputs": [
    {
     "data": {
      "text/plain": [
       "0.997009"
      ]
     },
     "execution_count": 4,
     "metadata": {},
     "output_type": "execute_result"
    }
   ],
   "source": [
    "1-(0.003*0.997)"
   ]
  },
  {
   "cell_type": "code",
   "execution_count": 5,
   "id": "38d49798",
   "metadata": {},
   "outputs": [
    {
     "data": {
      "text/plain": [
       "0.997008973"
      ]
     },
     "execution_count": 5,
     "metadata": {},
     "output_type": "execute_result"
    }
   ],
   "source": [
    "1-(0.003*0.997009)"
   ]
  },
  {
   "cell_type": "code",
   "execution_count": null,
   "id": "d3f5cb39",
   "metadata": {},
   "outputs": [],
   "source": []
  }
 ],
 "metadata": {
  "kernelspec": {
   "display_name": "Python 3",
   "language": "python",
   "name": "python3"
  },
  "language_info": {
   "codemirror_mode": {
    "name": "ipython",
    "version": 3
   },
   "file_extension": ".py",
   "mimetype": "text/x-python",
   "name": "python",
   "nbconvert_exporter": "python",
   "pygments_lexer": "ipython3",
   "version": "3.6.13"
  }
 },
 "nbformat": 4,
 "nbformat_minor": 5
}
