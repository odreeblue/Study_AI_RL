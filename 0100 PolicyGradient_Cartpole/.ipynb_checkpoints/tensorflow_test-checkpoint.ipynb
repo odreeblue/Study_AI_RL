{
 "cells": [
  {
   "cell_type": "code",
   "execution_count": 1,
   "id": "dba2285c",
   "metadata": {},
   "outputs": [
    {
     "name": "stderr",
     "output_type": "stream",
     "text": [
      "2023-04-25 23:26:24.964104: I tensorflow/core/platform/cpu_feature_guard.cc:193] This TensorFlow binary is optimized with oneAPI Deep Neural Network Library (oneDNN) to use the following CPU instructions in performance-critical operations:  SSE4.1 SSE4.2\n",
      "To enable them in other operations, rebuild TensorFlow with the appropriate compiler flags.\n"
     ]
    }
   ],
   "source": [
    "\n",
    "import numpy as np\n",
    "\n",
    "import matplotlib.pyplot as plt\n",
    "\n",
    "import tensorflow as tf"
   ]
  },
  {
   "cell_type": "code",
   "execution_count": 2,
   "id": "00838d6d",
   "metadata": {},
   "outputs": [
    {
     "data": {
      "text/plain": [
       "'2.10.0'"
      ]
     },
     "execution_count": 2,
     "metadata": {},
     "output_type": "execute_result"
    }
   ],
   "source": [
    "tf.__version__"
   ]
  },
  {
   "cell_type": "code",
   "execution_count": 3,
   "id": "09064762",
   "metadata": {},
   "outputs": [
    {
     "name": "stderr",
     "output_type": "stream",
     "text": [
      "2023-04-25 23:26:44.468679: I tensorflow/core/platform/cpu_feature_guard.cc:193] This TensorFlow binary is optimized with oneAPI Deep Neural Network Library (oneDNN) to use the following CPU instructions in performance-critical operations:  SSE4.1 SSE4.2\n",
      "To enable them in other operations, rebuild TensorFlow with the appropriate compiler flags.\n"
     ]
    }
   ],
   "source": [
    "a, y = tf.constant(2.0), tf.constant(8.0)\n",
    "\n",
    "x = tf.Variable(10.0) # In practice, we start with a random value\n",
    "\n",
    "loss = tf.math.abs(a * x - y)\n",
    "\n"
   ]
  },
  {
   "cell_type": "code",
   "execution_count": 5,
   "id": "6e4daabb",
   "metadata": {},
   "outputs": [],
   "source": [
    "# UDF for training\n",
    "\n",
    "def train_func():\n",
    "\n",
    "    with tf.GradientTape() as tape:\n",
    "\n",
    "        loss = tf.math.abs(a * x - y)\n",
    "        print(loss)\n",
    "\n",
    "    \n",
    "\n",
    "    # calculate gradient\n",
    "\n",
    "    dx =  tape.gradient(loss, x)\n",
    "\n",
    "    print('x = {}, dx = {:.2f}'.format(x.numpy(), dx))\n",
    "\n",
    "    \n",
    "\n",
    "    # update x <- x - dx\n",
    "\n",
    "    x.assign(x - dx)\n",
    "\n"
   ]
  },
  {
   "cell_type": "code",
   "execution_count": 6,
   "id": "9685c74c",
   "metadata": {},
   "outputs": [
    {
     "name": "stdout",
     "output_type": "stream",
     "text": [
      "tf.Tensor(12.0, shape=(), dtype=float32)\n",
      "x = 10.0, dx = 2.00\n"
     ]
    }
   ],
   "source": [
    "train_func()"
   ]
  },
  {
   "cell_type": "raw",
   "id": "530c2b6d",
   "metadata": {},
   "source": [
    "self.optimizers.apply_gradients(zip(dqn_grads, dqn_variable))"
   ]
  }
 ],
 "metadata": {
  "kernelspec": {
   "display_name": "Python 3 (ipykernel)",
   "language": "python",
   "name": "python3"
  },
  "language_info": {
   "codemirror_mode": {
    "name": "ipython",
    "version": 3
   },
   "file_extension": ".py",
   "mimetype": "text/x-python",
   "name": "python",
   "nbconvert_exporter": "python",
   "pygments_lexer": "ipython3",
   "version": "3.10.10"
  }
 },
 "nbformat": 4,
 "nbformat_minor": 5
}
